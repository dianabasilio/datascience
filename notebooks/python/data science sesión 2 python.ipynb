{
 "cells": [
  {
   "cell_type": "code",
   "execution_count": 1,
   "metadata": {},
   "outputs": [],
   "source": [
    "# Importacion de librerias\n",
    "import pandas as pd\n",
    "import matplotlib.pyplot as plt"
   ]
  },
  {
   "cell_type": "code",
   "execution_count": 20,
   "metadata": {},
   "outputs": [
    {
     "data": {
      "text/html": [
       "<div>\n",
       "<style scoped>\n",
       "    .dataframe tbody tr th:only-of-type {\n",
       "        vertical-align: middle;\n",
       "    }\n",
       "\n",
       "    .dataframe tbody tr th {\n",
       "        vertical-align: top;\n",
       "    }\n",
       "\n",
       "    .dataframe thead th {\n",
       "        text-align: right;\n",
       "    }\n",
       "</style>\n",
       "<table border=\"1\" class=\"dataframe\">\n",
       "  <thead>\n",
       "    <tr style=\"text-align: right;\">\n",
       "      <th></th>\n",
       "      <th>TicketPrice</th>\n",
       "    </tr>\n",
       "  </thead>\n",
       "  <tbody>\n",
       "    <tr>\n",
       "      <th>0</th>\n",
       "      <td>336</td>\n",
       "    </tr>\n",
       "    <tr>\n",
       "      <th>1</th>\n",
       "      <td>344</td>\n",
       "    </tr>\n",
       "    <tr>\n",
       "      <th>2</th>\n",
       "      <td>480</td>\n",
       "    </tr>\n",
       "    <tr>\n",
       "      <th>3</th>\n",
       "      <td>480</td>\n",
       "    </tr>\n",
       "    <tr>\n",
       "      <th>4</th>\n",
       "      <td>301</td>\n",
       "    </tr>\n",
       "    <tr>\n",
       "      <th>...</th>\n",
       "      <td>...</td>\n",
       "    </tr>\n",
       "    <tr>\n",
       "      <th>103</th>\n",
       "      <td>301</td>\n",
       "    </tr>\n",
       "    <tr>\n",
       "      <th>104</th>\n",
       "      <td>300</td>\n",
       "    </tr>\n",
       "    <tr>\n",
       "      <th>105</th>\n",
       "      <td>300</td>\n",
       "    </tr>\n",
       "    <tr>\n",
       "      <th>106</th>\n",
       "      <td>614</td>\n",
       "    </tr>\n",
       "    <tr>\n",
       "      <th>107</th>\n",
       "      <td>614</td>\n",
       "    </tr>\n",
       "  </tbody>\n",
       "</table>\n",
       "<p>108 rows × 1 columns</p>\n",
       "</div>"
      ],
      "text/plain": [
       "     TicketPrice\n",
       "0            336\n",
       "1            344\n",
       "2            480\n",
       "3            480\n",
       "4            301\n",
       "..           ...\n",
       "103          301\n",
       "104          300\n",
       "105          300\n",
       "106          614\n",
       "107          614\n",
       "\n",
       "[108 rows x 1 columns]"
      ]
     },
     "execution_count": 20,
     "metadata": {},
     "output_type": "execute_result"
    }
   ],
   "source": [
    "#Leer el archivo que se llama TicketPrice_Airlines.csv y renombrarlo como \"df\"\n",
    "df = pd.read_csv(\"https://raw.githubusercontent.com/dianabasilio/datascience/main/data/TicketPrice_Airlines.csv\")\n",
    "df"
   ]
  },
  {
   "cell_type": "code",
   "execution_count": 3,
   "metadata": {},
   "outputs": [
    {
     "data": {
      "text/plain": [
       "<AxesSubplot:ylabel='Frequency'>"
      ]
     },
     "execution_count": 3,
     "metadata": {},
     "output_type": "execute_result"
    },
    {
     "data": {
      "image/png": "[encoded data removed]",
      "text/plain": [
       "<Figure size 432x288 with 1 Axes>"
      ]
     },
     "metadata": {
      "needs_background": "light"
     },
     "output_type": "display_data"
    }
   ],
   "source": [
    "#Hacer un histograma simple, con falta de formato:\n",
    "# df.plot(kind=\"hist\")\n",
    "df.plot.hist()"
   ]
  },
  {
   "cell_type": "code",
   "execution_count": 4,
   "metadata": {},
   "outputs": [
    {
     "data": {
      "text/plain": [
       "<AxesSubplot:title={'center':'Histograma de Ticket Price'}, xlabel='Ticket Price', ylabel='Frecuencia'>"
      ]
     },
     "execution_count": 4,
     "metadata": {},
     "output_type": "execute_result"
    },
    {
     "data": {
      "image/png": "[encoded data removed]",
      "text/plain": [
       "<Figure size 432x288 with 1 Axes>"
      ]
     },
     "metadata": {
      "needs_background": "light"
     },
     "output_type": "display_data"
    }
   ],
   "source": [
    "#Ahora a mi histograma vamos a ponerle títulos entendibles y color\n",
    "# df.plot(kind=\"hist\")\n",
    "fig = df.plot.hist(color=\"blue\")\n",
    "fig.set_title(\"Histograma de Ticket Price\")\n",
    "fig.set_xlabel(\"Ticket Price\")\n",
    "fig.set_ylabel(\"Frecuencia\")\n",
    "fig"
   ]
  },
  {
   "cell_type": "code",
   "execution_count": 5,
   "metadata": {},
   "outputs": [
    {
     "data": {
      "text/plain": [
       "<AxesSubplot:title={'center':'Histograma de Ticket Price'}, xlabel='Ticket Price', ylabel='Frecuencia'>"
      ]
     },
     "execution_count": 5,
     "metadata": {},
     "output_type": "execute_result"
    },
    {
     "data": {
      "image/png": "[encoded data removed]",
      "text/plain": [
       "<Figure size 432x288 with 1 Axes>"
      ]
     },
     "metadata": {
      "needs_background": "light"
     },
     "output_type": "display_data"
    }
   ],
   "source": [
    "#Si solo te interesa analizar una parte del eje x, puedes acotarlo utilizando xlim de la siguiente manera:\n",
    "fig = df.plot.hist(color=\"blue\")\n",
    "fig.set_title(\"Histograma de Ticket Price\")\n",
    "fig.set_xlabel(\"Ticket Price\")\n",
    "fig.set_ylabel(\"Frecuencia\")\n",
    "fig.set_xlim(300,500)\n",
    "fig"
   ]
  },
  {
   "cell_type": "code",
   "execution_count": 6,
   "metadata": {},
   "outputs": [
    {
     "data": {
      "text/plain": [
       "<AxesSubplot:title={'center':'Histograma de Ticket Price'}, xlabel='Ticket Price', ylabel='Frecuencia'>"
      ]
     },
     "execution_count": 6,
     "metadata": {},
     "output_type": "execute_result"
    },
    {
     "data": {
      "image/png": "[encoded data removed]",
      "text/plain": [
       "<Figure size 432x288 with 1 Axes>"
      ]
     },
     "metadata": {
      "needs_background": "light"
     },
     "output_type": "display_data"
    }
   ],
   "source": [
    "#De manera muy similar si deseas acotar el eje y, se hace de la siguiente manera, solo que en lugar de xlim, ahora usamos ylim:\n",
    "fig = df.plot.hist(color=\"blue\")\n",
    "fig.set_title(\"Histograma de Ticket Price\")\n",
    "fig.set_xlabel(\"Ticket Price\")\n",
    "fig.set_ylabel(\"Frecuencia\")\n",
    "fig.set_ylim(0,40)\n",
    "fig"
   ]
  },
  {
   "cell_type": "code",
   "execution_count": 7,
   "metadata": {},
   "outputs": [
    {
     "data": {
      "text/plain": [
       "<AxesSubplot:ylabel='Density'>"
      ]
     },
     "execution_count": 7,
     "metadata": {},
     "output_type": "execute_result"
    },
    {
     "data": {
      "image/png": "[encoded data removed]",
      "text/plain": [
       "<Figure size 432x288 with 1 Axes>"
      ]
     },
     "metadata": {
      "needs_background": "light"
     },
     "output_type": "display_data"
    }
   ],
   "source": [
    "#Plus: Como hacer un gráfica de densidad sin formato:\n",
    "df.plot.kde()"
   ]
  },
  {
   "cell_type": "code",
   "execution_count": 8,
   "metadata": {},
   "outputs": [
    {
     "data": {
      "text/plain": [
       "<AxesSubplot:title={'center':'Densidad de Ticket Price'}, xlabel='Ticket Price', ylabel='Densidad'>"
      ]
     },
     "execution_count": 8,
     "metadata": {},
     "output_type": "execute_result"
    },
    {
     "data": {
      "image/png": "[encoded data removed]",
      "text/plain": [
       "<Figure size 432x288 with 1 Axes>"
      ]
     },
     "metadata": {
      "needs_background": "light"
     },
     "output_type": "display_data"
    }
   ],
   "source": [
    "#Como hacer un gráfica de densidad con un poco más de formato:\n",
    "fig = df.plot.kde(color=\"blue\")\n",
    "fig.set_title(\"Densidad de Ticket Price\")\n",
    "fig.set_xlabel(\"Ticket Price\")\n",
    "fig.set_ylabel(\"Densidad\")\n",
    "fig"
   ]
  },
  {
   "cell_type": "code",
   "execution_count": 9,
   "metadata": {},
   "outputs": [
    {
     "data": {
      "text/plain": [
       "<AxesSubplot:>"
      ]
     },
     "execution_count": 9,
     "metadata": {},
     "output_type": "execute_result"
    },
    {
     "data": {
      "image/png": "[encoded data removed]",
      "text/plain": [
       "<Figure size 432x288 with 1 Axes>"
      ]
     },
     "metadata": {
      "needs_background": "light"
     },
     "output_type": "display_data"
    }
   ],
   "source": [
    "#Ahora veamos como hacer un boxplot, de inicio sin formato\n",
    "df.plot.box()"
   ]
  },
  {
   "cell_type": "code",
   "execution_count": 10,
   "metadata": {},
   "outputs": [
    {
     "data": {
      "text/plain": [
       "<AxesSubplot:title={'center':'Boxplot de TicketPrice'}>"
      ]
     },
     "execution_count": 10,
     "metadata": {},
     "output_type": "execute_result"
    },
    {
     "data": {
      "image/png": "[encoded data removed]",
      "text/plain": [
       "<Figure size 432x288 with 1 Axes>"
      ]
     },
     "metadata": {
      "needs_background": "light"
     },
     "output_type": "display_data"
    }
   ],
   "source": [
    "#Ahora hagamos más presentable nuestro boxplot, le ponemos nombre, le ponemos color y lo vamos a poner de manera horizontal:\n",
    "fig = df.plot.box(color = \"#0000CC\", vert=False, notch=True)\n",
    "fig.set_title(\"Boxplot de TicketPrice\")\n",
    "fig"
   ]
  },
  {
   "cell_type": "code",
   "execution_count": 11,
   "metadata": {},
   "outputs": [
    {
     "data": {
      "text/html": [
       "<div>\n",
       "<style scoped>\n",
       "    .dataframe tbody tr th:only-of-type {\n",
       "        vertical-align: middle;\n",
       "    }\n",
       "\n",
       "    .dataframe tbody tr th {\n",
       "        vertical-align: top;\n",
       "    }\n",
       "\n",
       "    .dataframe thead th {\n",
       "        text-align: right;\n",
       "    }\n",
       "</style>\n",
       "<table border=\"1\" class=\"dataframe\">\n",
       "  <thead>\n",
       "    <tr style=\"text-align: right;\">\n",
       "      <th></th>\n",
       "      <th>TicketPrice</th>\n",
       "    </tr>\n",
       "  </thead>\n",
       "  <tbody>\n",
       "    <tr>\n",
       "      <th>count</th>\n",
       "      <td>108.000000</td>\n",
       "    </tr>\n",
       "    <tr>\n",
       "      <th>mean</th>\n",
       "      <td>376.370370</td>\n",
       "    </tr>\n",
       "    <tr>\n",
       "      <th>std</th>\n",
       "      <td>86.460038</td>\n",
       "    </tr>\n",
       "    <tr>\n",
       "      <th>min</th>\n",
       "      <td>300.000000</td>\n",
       "    </tr>\n",
       "    <tr>\n",
       "      <th>25%</th>\n",
       "      <td>305.000000</td>\n",
       "    </tr>\n",
       "    <tr>\n",
       "      <th>50%</th>\n",
       "      <td>341.000000</td>\n",
       "    </tr>\n",
       "    <tr>\n",
       "      <th>75%</th>\n",
       "      <td>424.000000</td>\n",
       "    </tr>\n",
       "    <tr>\n",
       "      <th>max</th>\n",
       "      <td>620.000000</td>\n",
       "    </tr>\n",
       "  </tbody>\n",
       "</table>\n",
       "</div>"
      ],
      "text/plain": [
       "       TicketPrice\n",
       "count   108.000000\n",
       "mean    376.370370\n",
       "std      86.460038\n",
       "min     300.000000\n",
       "25%     305.000000\n",
       "50%     341.000000\n",
       "75%     424.000000\n",
       "max     620.000000"
      ]
     },
     "execution_count": 11,
     "metadata": {},
     "output_type": "execute_result"
    }
   ],
   "source": [
    "df.describe()"
   ]
  },
  {
   "cell_type": "code",
   "execution_count": 12,
   "metadata": {},
   "outputs": [
    {
     "name": "stdout",
     "output_type": "stream",
     "text": [
      "       TicketPrice\n",
      "count   108.000000\n",
      "mean    376.370370\n",
      "std      86.460038\n",
      "min     300.000000\n",
      "25%     305.000000\n",
      "50%     341.000000\n",
      "75%     424.000000\n",
      "max     620.000000\n"
     ]
    },
    {
     "name": "stderr",
     "output_type": "stream",
     "text": [
      "<ipython-input-12-722491c92c25>:26: UserWarning: Matplotlib is currently using module://ipykernel.pylab.backend_inline, which is a non-GUI backend, so cannot show the figure.\n",
      "  fig.show()\n"
     ]
    },
    {
     "data": {
      "image/png": "[encoded data removed]",
      "text/plain": [
       "<Figure size 576x432 with 3 Axes>"
      ]
     },
     "metadata": {
      "needs_background": "light"
     },
     "output_type": "display_data"
    }
   ],
   "source": [
    "#Ahora, supongamos que queremos analizar estas 3 representaciones gráficas en uno solo y un summary inicial para mejor visión de los resultados:\n",
    "print(df.describe())\n",
    "\n",
    "# Creamos los espacios para las figuras\n",
    "fig, axes = plt.subplots(nrows=3, ncols=1, figsize=(8,6))\n",
    "\n",
    "# Agregamos la grfica de densidad\n",
    "df.plot.kde(color=\"blue\", ax=axes[0])\n",
    "axes[0].set_title(\"Densidad de Ticket Price\")\n",
    "axes[0].set_xlabel(\"Ticket Price\")\n",
    "axes[0].set_ylabel(\"Densidad\")\n",
    "\n",
    "# Agregamos la grfica de histograma\n",
    "df.plot.hist(color=\"blue\", ax=axes[1])\n",
    "axes[1].set_title(\"Histograma de Ticket Price\")\n",
    "axes[1].set_xlabel(\"Ticket Price\")\n",
    "axes[1].set_ylabel(\"Frecuencia\")\n",
    "\n",
    "# Agregamos la grfica de caja\n",
    "df.plot.box(color = \"#0000CC\", vert=False, notch=True, ax=axes[2])\n",
    "axes[2].set_title(\"Boxplot de TicketPrice\")\n",
    "\n",
    "# Ajustamos la imagen\n",
    "fig.tight_layout()\n",
    "# Mostramos el resultado\n",
    "fig.show()\n",
    "#Que puntos son considerados outlier: Q3 + 1.5 IQR y Q3 - 1.5 IQR (donde IQR: rango ingercuartílico = Q3-Q1)"
   ]
  },
  {
   "cell_type": "code",
   "execution_count": 21,
   "metadata": {},
   "outputs": [
    {
     "data": {
      "text/html": [
       "<div>\n",
       "<style scoped>\n",
       "    .dataframe tbody tr th:only-of-type {\n",
       "        vertical-align: middle;\n",
       "    }\n",
       "\n",
       "    .dataframe tbody tr th {\n",
       "        vertical-align: top;\n",
       "    }\n",
       "\n",
       "    .dataframe thead th {\n",
       "        text-align: right;\n",
       "    }\n",
       "</style>\n",
       "<table border=\"1\" class=\"dataframe\">\n",
       "  <thead>\n",
       "    <tr style=\"text-align: right;\">\n",
       "      <th></th>\n",
       "      <th>TempS1</th>\n",
       "      <th>TorqueS1</th>\n",
       "      <th>TempS2</th>\n",
       "      <th>TorqueS2</th>\n",
       "    </tr>\n",
       "  </thead>\n",
       "  <tbody>\n",
       "    <tr>\n",
       "      <th>0</th>\n",
       "      <td>124</td>\n",
       "      <td>24</td>\n",
       "      <td>100</td>\n",
       "      <td>26</td>\n",
       "    </tr>\n",
       "    <tr>\n",
       "      <th>1</th>\n",
       "      <td>118</td>\n",
       "      <td>23</td>\n",
       "      <td>65</td>\n",
       "      <td>24</td>\n",
       "    </tr>\n",
       "    <tr>\n",
       "      <th>2</th>\n",
       "      <td>105</td>\n",
       "      <td>21</td>\n",
       "      <td>120</td>\n",
       "      <td>26</td>\n",
       "    </tr>\n",
       "    <tr>\n",
       "      <th>3</th>\n",
       "      <td>96</td>\n",
       "      <td>20</td>\n",
       "      <td>76</td>\n",
       "      <td>24</td>\n",
       "    </tr>\n",
       "    <tr>\n",
       "      <th>4</th>\n",
       "      <td>130</td>\n",
       "      <td>27</td>\n",
       "      <td>35</td>\n",
       "      <td>21</td>\n",
       "    </tr>\n",
       "    <tr>\n",
       "      <th>...</th>\n",
       "      <td>...</td>\n",
       "      <td>...</td>\n",
       "      <td>...</td>\n",
       "      <td>...</td>\n",
       "    </tr>\n",
       "    <tr>\n",
       "      <th>172</th>\n",
       "      <td>106</td>\n",
       "      <td>29</td>\n",
       "      <td>70</td>\n",
       "      <td>22</td>\n",
       "    </tr>\n",
       "    <tr>\n",
       "      <th>173</th>\n",
       "      <td>105</td>\n",
       "      <td>24</td>\n",
       "      <td>80</td>\n",
       "      <td>22</td>\n",
       "    </tr>\n",
       "    <tr>\n",
       "      <th>174</th>\n",
       "      <td>101</td>\n",
       "      <td>26</td>\n",
       "      <td>90</td>\n",
       "      <td>27</td>\n",
       "    </tr>\n",
       "    <tr>\n",
       "      <th>175</th>\n",
       "      <td>80</td>\n",
       "      <td>26</td>\n",
       "      <td>100</td>\n",
       "      <td>32</td>\n",
       "    </tr>\n",
       "    <tr>\n",
       "      <th>176</th>\n",
       "      <td>100</td>\n",
       "      <td>25</td>\n",
       "      <td>110</td>\n",
       "      <td>37</td>\n",
       "    </tr>\n",
       "  </tbody>\n",
       "</table>\n",
       "<p>177 rows × 4 columns</p>\n",
       "</div>"
      ],
      "text/plain": [
       "     TempS1  TorqueS1  TempS2  TorqueS2\n",
       "0       124        24     100        26\n",
       "1       118        23      65        24\n",
       "2       105        21     120        26\n",
       "3        96        20      76        24\n",
       "4       130        27      35        21\n",
       "..      ...       ...     ...       ...\n",
       "172     106        29      70        22\n",
       "173     105        24      80        22\n",
       "174     101        26      90        27\n",
       "175      80        26     100        32\n",
       "176     100        25     110        37\n",
       "\n",
       "[177 rows x 4 columns]"
      ]
     },
     "execution_count": 21,
     "metadata": {},
     "output_type": "execute_result"
    }
   ],
   "source": [
    "#Ahora vamos a leer el archivo que se llama Matriz_Correlacion.csv y renombrarlo como \"df2\" para hacer análisis futuros y veamos que contiene\n",
    "df2 = pd.read_csv(\"https://raw.githubusercontent.com/dianabasilio/datascience/main/data/Matriz_Correlacion.csv\")\n",
    "df2"
   ]
  },
  {
   "cell_type": "code",
   "execution_count": 22,
   "metadata": {},
   "outputs": [
    {
     "data": {
      "text/plain": [
       "<AxesSubplot:xlabel='TempS1', ylabel='TempS2'>"
      ]
     },
     "execution_count": 22,
     "metadata": {},
     "output_type": "execute_result"
    },
    {
     "data": {
      "image/png": "[encoded data removed]",
      "text/plain": [
       "<Figure size 432x288 with 1 Axes>"
      ]
     },
     "metadata": {
      "needs_background": "light"
     },
     "output_type": "display_data"
    }
   ],
   "source": [
    "#Ahora hagamos un Diagrama de Dispersión que nos permitirá ver si hay alguna relación con las variables de mi tabla\n",
    "# elegimos quien será x y y (cualesquier par de variables de mi tabla df2)\n",
    "#Primero tomemos a x=Temperatura del sector1 y y=Temperatura del sector2\n",
    "df2.plot.scatter(x=\"TempS1\", y=\"TempS2\")"
   ]
  },
  {
   "cell_type": "code",
   "execution_count": 23,
   "metadata": {},
   "outputs": [
    {
     "data": {
      "text/plain": [
       "<AxesSubplot:xlabel='TempS1', ylabel='TorqueS1'>"
      ]
     },
     "execution_count": 23,
     "metadata": {},
     "output_type": "execute_result"
    },
    {
     "data": {
      "image/png": "[encoded data removed]",
      "text/plain": [
       "<Figure size 432x288 with 1 Axes>"
      ]
     },
     "metadata": {
      "needs_background": "light"
     },
     "output_type": "display_data"
    }
   ],
   "source": [
    "#Ahora hagamos un Diagrama de Dispersión con x=Torque S1 y y=TorqueS2\n",
    "df2.plot.scatter(x=\"TempS1\", y=\"TorqueS1\")"
   ]
  },
  {
   "cell_type": "code",
   "execution_count": 24,
   "metadata": {},
   "outputs": [
    {
     "data": {
      "text/plain": [
       "<AxesSubplot:xlabel='TempS2', ylabel='TorqueS2'>"
      ]
     },
     "execution_count": 24,
     "metadata": {},
     "output_type": "execute_result"
    },
    {
     "data": {
      "image/png": "[encoded data removed]",
      "text/plain": [
       "<Figure size 432x288 with 1 Axes>"
      ]
     },
     "metadata": {
      "needs_background": "light"
     },
     "output_type": "display_data"
    }
   ],
   "source": [
    "#Y lo mismo podemos hacer con las diferentes combinaciones en pares de las variables contenidas en la tabla:\n",
    "df2.plot.scatter(x=\"TempS2\", y=\"TorqueS2\")"
   ]
  },
  {
   "cell_type": "code",
   "execution_count": 25,
   "metadata": {},
   "outputs": [
    {
     "data": {
      "text/html": [
       "<div>\n",
       "<style scoped>\n",
       "    .dataframe tbody tr th:only-of-type {\n",
       "        vertical-align: middle;\n",
       "    }\n",
       "\n",
       "    .dataframe tbody tr th {\n",
       "        vertical-align: top;\n",
       "    }\n",
       "\n",
       "    .dataframe thead th {\n",
       "        text-align: right;\n",
       "    }\n",
       "</style>\n",
       "<table border=\"1\" class=\"dataframe\">\n",
       "  <thead>\n",
       "    <tr style=\"text-align: right;\">\n",
       "      <th></th>\n",
       "      <th>TempS1</th>\n",
       "      <th>TorqueS1</th>\n",
       "      <th>TempS2</th>\n",
       "      <th>TorqueS2</th>\n",
       "    </tr>\n",
       "  </thead>\n",
       "  <tbody>\n",
       "    <tr>\n",
       "      <th>TempS1</th>\n",
       "      <td>1.000000</td>\n",
       "      <td>0.354057</td>\n",
       "      <td>-0.024456</td>\n",
       "      <td>0.092461</td>\n",
       "    </tr>\n",
       "    <tr>\n",
       "      <th>TorqueS1</th>\n",
       "      <td>0.354057</td>\n",
       "      <td>1.000000</td>\n",
       "      <td>-0.040869</td>\n",
       "      <td>-0.041783</td>\n",
       "    </tr>\n",
       "    <tr>\n",
       "      <th>TempS2</th>\n",
       "      <td>-0.024456</td>\n",
       "      <td>-0.040869</td>\n",
       "      <td>1.000000</td>\n",
       "      <td>0.565294</td>\n",
       "    </tr>\n",
       "    <tr>\n",
       "      <th>TorqueS2</th>\n",
       "      <td>0.092461</td>\n",
       "      <td>-0.041783</td>\n",
       "      <td>0.565294</td>\n",
       "      <td>1.000000</td>\n",
       "    </tr>\n",
       "  </tbody>\n",
       "</table>\n",
       "</div>"
      ],
      "text/plain": [
       "            TempS1  TorqueS1    TempS2  TorqueS2\n",
       "TempS1    1.000000  0.354057 -0.024456  0.092461\n",
       "TorqueS1  0.354057  1.000000 -0.040869 -0.041783\n",
       "TempS2   -0.024456 -0.040869  1.000000  0.565294\n",
       "TorqueS2  0.092461 -0.041783  0.565294  1.000000"
      ]
     },
     "execution_count": 25,
     "metadata": {},
     "output_type": "execute_result"
    }
   ],
   "source": [
    "#Primero obtengamos una matriz de correlación simple, redondeando los coeficientes de correlación y renombrandolo como \"corr\"\n",
    "corr = df2.corr()\n",
    "corr"
   ]
  },
  {
   "cell_type": "code",
   "execution_count": 26,
   "metadata": {},
   "outputs": [
    {
     "data": {
      "text/html": [
       "<style  type=\"text/css\" >\n",
       "#T_08af3ff8_c242_11eb_93d5_68fef71304c9row0_col0,#T_08af3ff8_c242_11eb_93d5_68fef71304c9row1_col1,#T_08af3ff8_c242_11eb_93d5_68fef71304c9row2_col2,#T_08af3ff8_c242_11eb_93d5_68fef71304c9row3_col3{\n",
       "            background-color:  #b40426;\n",
       "            color:  #f1f1f1;\n",
       "        }#T_08af3ff8_c242_11eb_93d5_68fef71304c9row0_col1{\n",
       "            background-color:  #bad0f8;\n",
       "            color:  #000000;\n",
       "        }#T_08af3ff8_c242_11eb_93d5_68fef71304c9row0_col2{\n",
       "            background-color:  #3f53c6;\n",
       "            color:  #f1f1f1;\n",
       "        }#T_08af3ff8_c242_11eb_93d5_68fef71304c9row0_col3{\n",
       "            background-color:  #6282ea;\n",
       "            color:  #000000;\n",
       "        }#T_08af3ff8_c242_11eb_93d5_68fef71304c9row1_col0{\n",
       "            background-color:  #b6cefa;\n",
       "            color:  #000000;\n",
       "        }#T_08af3ff8_c242_11eb_93d5_68fef71304c9row1_col2,#T_08af3ff8_c242_11eb_93d5_68fef71304c9row1_col3,#T_08af3ff8_c242_11eb_93d5_68fef71304c9row2_col0,#T_08af3ff8_c242_11eb_93d5_68fef71304c9row2_col1,#T_08af3ff8_c242_11eb_93d5_68fef71304c9row3_col1{\n",
       "            background-color:  #3b4cc0;\n",
       "            color:  #f1f1f1;\n",
       "        }#T_08af3ff8_c242_11eb_93d5_68fef71304c9row2_col3,#T_08af3ff8_c242_11eb_93d5_68fef71304c9row3_col2{\n",
       "            background-color:  #efcebd;\n",
       "            color:  #000000;\n",
       "        }#T_08af3ff8_c242_11eb_93d5_68fef71304c9row3_col0{\n",
       "            background-color:  #5e7de7;\n",
       "            color:  #000000;\n",
       "        }</style><table id=\"T_08af3ff8_c242_11eb_93d5_68fef71304c9\" ><thead>    <tr>        <th class=\"blank level0\" ></th>        <th class=\"col_heading level0 col0\" >TempS1</th>        <th class=\"col_heading level0 col1\" >TorqueS1</th>        <th class=\"col_heading level0 col2\" >TempS2</th>        <th class=\"col_heading level0 col3\" >TorqueS2</th>    </tr></thead><tbody>\n",
       "                <tr>\n",
       "                        <th id=\"T_08af3ff8_c242_11eb_93d5_68fef71304c9level0_row0\" class=\"row_heading level0 row0\" >TempS1</th>\n",
       "                        <td id=\"T_08af3ff8_c242_11eb_93d5_68fef71304c9row0_col0\" class=\"data row0 col0\" >1.000</td>\n",
       "                        <td id=\"T_08af3ff8_c242_11eb_93d5_68fef71304c9row0_col1\" class=\"data row0 col1\" >0.354</td>\n",
       "                        <td id=\"T_08af3ff8_c242_11eb_93d5_68fef71304c9row0_col2\" class=\"data row0 col2\" >-0.024</td>\n",
       "                        <td id=\"T_08af3ff8_c242_11eb_93d5_68fef71304c9row0_col3\" class=\"data row0 col3\" >0.092</td>\n",
       "            </tr>\n",
       "            <tr>\n",
       "                        <th id=\"T_08af3ff8_c242_11eb_93d5_68fef71304c9level0_row1\" class=\"row_heading level0 row1\" >TorqueS1</th>\n",
       "                        <td id=\"T_08af3ff8_c242_11eb_93d5_68fef71304c9row1_col0\" class=\"data row1 col0\" >0.354</td>\n",
       "                        <td id=\"T_08af3ff8_c242_11eb_93d5_68fef71304c9row1_col1\" class=\"data row1 col1\" >1.000</td>\n",
       "                        <td id=\"T_08af3ff8_c242_11eb_93d5_68fef71304c9row1_col2\" class=\"data row1 col2\" >-0.041</td>\n",
       "                        <td id=\"T_08af3ff8_c242_11eb_93d5_68fef71304c9row1_col3\" class=\"data row1 col3\" >-0.042</td>\n",
       "            </tr>\n",
       "            <tr>\n",
       "                        <th id=\"T_08af3ff8_c242_11eb_93d5_68fef71304c9level0_row2\" class=\"row_heading level0 row2\" >TempS2</th>\n",
       "                        <td id=\"T_08af3ff8_c242_11eb_93d5_68fef71304c9row2_col0\" class=\"data row2 col0\" >-0.024</td>\n",
       "                        <td id=\"T_08af3ff8_c242_11eb_93d5_68fef71304c9row2_col1\" class=\"data row2 col1\" >-0.041</td>\n",
       "                        <td id=\"T_08af3ff8_c242_11eb_93d5_68fef71304c9row2_col2\" class=\"data row2 col2\" >1.000</td>\n",
       "                        <td id=\"T_08af3ff8_c242_11eb_93d5_68fef71304c9row2_col3\" class=\"data row2 col3\" >0.565</td>\n",
       "            </tr>\n",
       "            <tr>\n",
       "                        <th id=\"T_08af3ff8_c242_11eb_93d5_68fef71304c9level0_row3\" class=\"row_heading level0 row3\" >TorqueS2</th>\n",
       "                        <td id=\"T_08af3ff8_c242_11eb_93d5_68fef71304c9row3_col0\" class=\"data row3 col0\" >0.092</td>\n",
       "                        <td id=\"T_08af3ff8_c242_11eb_93d5_68fef71304c9row3_col1\" class=\"data row3 col1\" >-0.042</td>\n",
       "                        <td id=\"T_08af3ff8_c242_11eb_93d5_68fef71304c9row3_col2\" class=\"data row3 col2\" >0.565</td>\n",
       "                        <td id=\"T_08af3ff8_c242_11eb_93d5_68fef71304c9row3_col3\" class=\"data row3 col3\" >1.000</td>\n",
       "            </tr>\n",
       "    </tbody></table>"
      ],
      "text/plain": [
       "<pandas.io.formats.style.Styler at 0x7fa918ec18b0>"
      ]
     },
     "execution_count": 26,
     "metadata": {},
     "output_type": "execute_result"
    }
   ],
   "source": [
    "corr.style.background_gradient(cmap='coolwarm').set_precision(3)"
   ]
  },
  {
   "cell_type": "code",
   "execution_count": 27,
   "metadata": {},
   "outputs": [],
   "source": [
    "# Recursos de visualizacion con pandas\n",
    "# https://pandas.pydata.org/pandas-docs/stable/user_guide/visualization.html\n",
    "\n",
    "# Libreria para graficas interactivas y dashboards\n",
    "# https://plotly.com/python/ tambien esta disponible para R https://plotly.com/r/\n"
   ]
  },
  {
   "cell_type": "code",
   "execution_count": null,
   "metadata": {},
   "outputs": [],
   "source": []
  },
  {
   "cell_type": "code",
   "execution_count": null,
   "metadata": {},
   "outputs": [],
   "source": []
  }
 ],
 "metadata": {
  "kernelspec": {
   "display_name": "Python 3",
   "language": "python",
   "name": "python3"
  },
  "language_info": {
   "codemirror_mode": {
    "name": "ipython",
    "version": 3
   },
   "file_extension": ".py",
   "mimetype": "text/x-python",
   "name": "python",
   "nbconvert_exporter": "python",
   "pygments_lexer": "ipython3",
   "version": "3.8.5"
  }
 },
 "nbformat": 4,
 "nbformat_minor": 4
}
